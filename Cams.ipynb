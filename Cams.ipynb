{
  "nbformat": 4,
  "nbformat_minor": 0,
  "metadata": {
    "colab": {
      "provenance": [],
      "authorship_tag": "ABX9TyPwNC/UUHAd7kfMm+o1AagY",
      "include_colab_link": true
    },
    "kernelspec": {
      "name": "python3",
      "display_name": "Python 3"
    },
    "language_info": {
      "name": "python"
    }
  },
  "cells": [
    {
      "cell_type": "markdown",
      "metadata": {
        "id": "view-in-github",
        "colab_type": "text"
      },
      "source": [
        "<a href=\"https://colab.research.google.com/github/marayyy/cams/blob/Guvi/Cams.ipynb\" target=\"_parent\"><img src=\"https://colab.research.google.com/assets/colab-badge.svg\" alt=\"Open In Colab\"/></a>"
      ]
    },
    {
      "cell_type": "code",
      "execution_count": 1,
      "metadata": {
        "colab": {
          "base_uri": "https://localhost:8080/"
        },
        "id": "QgNcCCUrlEhV",
        "outputId": "4d2285f6-3391-426f-f80a-98bbc13356cd"
      },
      "outputs": [
        {
          "output_type": "stream",
          "name": "stdout",
          "text": [
            "Some expenses are not settled. Remaining amount:  900.0\n"
          ]
        }
      ],
      "source": [
        "class User:\n",
        "    def __init__(self, name):\n",
        "        self.name = name\n",
        "        self.expenses = []\n",
        "        self.payments = []\n",
        "\n",
        "    def add_expense(self, description, amount, paid_by):\n",
        "        self.expenses.append({'description': description, 'amount': amount, 'paid_by': paid_by})\n",
        "\n",
        "    def add_payment(self, amount, paid_to):\n",
        "        self.payments.append({'amount': amount, 'paid_to': paid_to})\n",
        "\n",
        "\n",
        "class ExpenseTracker:\n",
        "    def __init__(self):\n",
        "        self.users = []\n",
        "\n",
        "    def create_user(self, name):\n",
        "        user = User(name)\n",
        "        self.users.append(user)\n",
        "\n",
        "    def get_user_by_name(self, name):\n",
        "        for user in self.users:\n",
        "            if user.name == name:\n",
        "                return user\n",
        "        return None\n",
        "\n",
        "    def add_expense(self, description, amount, paid_by, shared_with):\n",
        "        expense_paid_by = self.get_user_by_name(paid_by)\n",
        "        if expense_paid_by is not None:\n",
        "            expense_paid_by.add_expense(description, amount, paid_by)\n",
        "            for user in shared_with:\n",
        "                user_obj = self.get_user_by_name(user)\n",
        "                if user_obj is not None:\n",
        "                    user_obj.add_expense(description, amount / len(shared_with), paid_by)\n",
        "\n",
        "    def add_payment(self, amount, paid_by, paid_to):\n",
        "        user_paying = self.get_user_by_name(paid_by)\n",
        "        user_receiving = self.get_user_by_name(paid_to)\n",
        "        if user_paying is not None and user_receiving is not None:\n",
        "            user_paying.add_payment(amount, paid_to)\n",
        "            user_receiving.add_payment(-amount, paid_by)\n",
        "\n",
        "    def get_total_expenses(self):\n",
        "        total_expenses = 0\n",
        "        for user in self.users:\n",
        "            for expense in user.expenses:\n",
        "                total_expenses += expense['amount']\n",
        "        return total_expenses\n",
        "\n",
        "    def get_total_payments(self):\n",
        "        total_payments = 0\n",
        "        for user in self.users:\n",
        "            for payment in user.payments:\n",
        "                total_payments += payment['amount']\n",
        "        return total_payments\n",
        "\n",
        "    def settle_expenses(self):\n",
        "        total_expenses = self.get_total_expenses()\n",
        "        total_payments = self.get_total_payments()\n",
        "\n",
        "        if total_expenses == total_payments:\n",
        "            print(\"All expenses are settled.\")\n",
        "        elif total_expenses > total_payments:\n",
        "            print(\"Some expenses are not settled. Remaining amount: \", total_expenses - total_payments)\n",
        "        else:\n",
        "            print(\"Some users have overpaid. Remaining amount: \", total_payments - total_expenses)\n",
        "\n",
        "\n",
        "tracker = ExpenseTracker()\n",
        "\n",
        "tracker.create_user('A')\n",
        "tracker.create_user('B')\n",
        "tracker.create_user('C')\n",
        "tracker.create_user('D')\n",
        "tracker.create_user('E')\n",
        "\n",
        "tracker.add_expense('Accommodation', 200, 'B', ['A', 'B', 'C'])\n",
        "tracker.add_expense('Food', 150, 'A', ['A', 'B', 'C'])\n",
        "tracker.add_expense('Food', 100, 'E', ['D', 'E'])\n",
        "\n",
        "tracker.add_payment(300, 'A', 'C')\n",
        "tracker.add_payment(100, 'E', 'D')\n",
        "\n",
        "tracker.settle_expenses()"
      ]
    }
  ]
}